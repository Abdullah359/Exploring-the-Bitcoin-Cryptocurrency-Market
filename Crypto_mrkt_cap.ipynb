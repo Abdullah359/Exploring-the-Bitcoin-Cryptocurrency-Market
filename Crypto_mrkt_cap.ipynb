{
 "cells": [
  {
   "cell_type": "markdown",
   "id": "3c51d7c2-a8db-4a96-8b6e-08d3e7d00243",
   "metadata": {},
   "source": [
    "# Exploring the Bitcoin Cryptocurrency Market"
   ]
  },
  {
   "cell_type": "markdown",
   "id": "3ae6b13a-fa4d-4633-aeda-ffa8e8c02db3",
   "metadata": {},
   "source": [
    "Explore the market capitalization of Bitcoin and other cryptocurrencies."
   ]
  },
  {
   "cell_type": "code",
   "execution_count": 1,
   "id": "e9eb6ddb-3512-4a5b-bf2c-753241ab6803",
   "metadata": {
    "tags": []
   },
   "outputs": [],
   "source": [
    "import numpy as np\n",
    "import pandas as pd\n",
    "import matplotlib.pyplot as plt"
   ]
  },
  {
   "cell_type": "markdown",
   "id": "04c46b0e-9dcc-4489-a49f-29c6b6bb3bd4",
   "metadata": {},
   "source": [
    " "
   ]
  },
  {
   "cell_type": "markdown",
   "id": "4c270007-9d57-47a9-af17-992c356c3b9a",
   "metadata": {},
   "source": [
    "##### Importing file coinmarketcap 2017"
   ]
  },
  {
   "cell_type": "code",
   "execution_count": 2,
   "id": "c1be6951-6097-404a-af1c-6fc243e30e0e",
   "metadata": {},
   "outputs": [],
   "source": [
    "dec6 = pd.read_csv('datasets\\coinmarketcap_06122017.csv')"
   ]
  },
  {
   "cell_type": "code",
   "execution_count": 3,
   "id": "e668e54c-5064-453d-9053-cf5e14dac1fd",
   "metadata": {},
   "outputs": [
    {
     "data": {
      "text/plain": [
       "1326"
      ]
     },
     "execution_count": 3,
     "metadata": {},
     "output_type": "execute_result"
    }
   ],
   "source": [
    "len(dec6)"
   ]
  },
  {
   "cell_type": "code",
   "execution_count": 4,
   "id": "37bd27fa-7e47-47da-8aab-d97bb22317cb",
   "metadata": {},
   "outputs": [
    {
     "data": {
      "text/plain": [
       "(1326, 16)"
      ]
     },
     "execution_count": 4,
     "metadata": {},
     "output_type": "execute_result"
    }
   ],
   "source": [
    "dec6.shape"
   ]
  },
  {
   "cell_type": "code",
   "execution_count": 5,
   "id": "5df81f4a-9147-4d3c-98bf-3d15b6a64acd",
   "metadata": {},
   "outputs": [
    {
     "data": {
      "text/html": [
       "<div>\n",
       "<style scoped>\n",
       "    .dataframe tbody tr th:only-of-type {\n",
       "        vertical-align: middle;\n",
       "    }\n",
       "\n",
       "    .dataframe tbody tr th {\n",
       "        vertical-align: top;\n",
       "    }\n",
       "\n",
       "    .dataframe thead th {\n",
       "        text-align: right;\n",
       "    }\n",
       "</style>\n",
       "<table border=\"1\" class=\"dataframe\">\n",
       "  <thead>\n",
       "    <tr style=\"text-align: right;\">\n",
       "      <th></th>\n",
       "      <th>Unnamed: 0</th>\n",
       "      <th>24h_volume_usd</th>\n",
       "      <th>available_supply</th>\n",
       "      <th>id</th>\n",
       "      <th>last_updated</th>\n",
       "      <th>market_cap_usd</th>\n",
       "      <th>max_supply</th>\n",
       "      <th>name</th>\n",
       "      <th>percent_change_1h</th>\n",
       "      <th>percent_change_24h</th>\n",
       "      <th>percent_change_7d</th>\n",
       "      <th>price_btc</th>\n",
       "      <th>price_usd</th>\n",
       "      <th>rank</th>\n",
       "      <th>symbol</th>\n",
       "      <th>total_supply</th>\n",
       "    </tr>\n",
       "  </thead>\n",
       "  <tbody>\n",
       "    <tr>\n",
       "      <th>0</th>\n",
       "      <td>0</td>\n",
       "      <td>9.007640e+09</td>\n",
       "      <td>16723525.0</td>\n",
       "      <td>bitcoin</td>\n",
       "      <td>1512549554</td>\n",
       "      <td>2.130493e+11</td>\n",
       "      <td>21000000.0</td>\n",
       "      <td>Bitcoin</td>\n",
       "      <td>0.12</td>\n",
       "      <td>7.33</td>\n",
       "      <td>17.45</td>\n",
       "      <td>1.000000</td>\n",
       "      <td>12739.500</td>\n",
       "      <td>1</td>\n",
       "      <td>BTC</td>\n",
       "      <td>16723525.0</td>\n",
       "    </tr>\n",
       "    <tr>\n",
       "      <th>1</th>\n",
       "      <td>1</td>\n",
       "      <td>1.551330e+09</td>\n",
       "      <td>96165368.0</td>\n",
       "      <td>ethereum</td>\n",
       "      <td>1512549553</td>\n",
       "      <td>4.352945e+10</td>\n",
       "      <td>NaN</td>\n",
       "      <td>Ethereum</td>\n",
       "      <td>-0.18</td>\n",
       "      <td>-3.93</td>\n",
       "      <td>-7.33</td>\n",
       "      <td>0.036177</td>\n",
       "      <td>452.652</td>\n",
       "      <td>2</td>\n",
       "      <td>ETH</td>\n",
       "      <td>96165368.0</td>\n",
       "    </tr>\n",
       "    <tr>\n",
       "      <th>2</th>\n",
       "      <td>2</td>\n",
       "      <td>1.111350e+09</td>\n",
       "      <td>16840438.0</td>\n",
       "      <td>bitcoin-cash</td>\n",
       "      <td>1512549578</td>\n",
       "      <td>2.529585e+10</td>\n",
       "      <td>21000000.0</td>\n",
       "      <td>Bitcoin Cash</td>\n",
       "      <td>1.65</td>\n",
       "      <td>-5.51</td>\n",
       "      <td>-4.75</td>\n",
       "      <td>0.120050</td>\n",
       "      <td>1502.090</td>\n",
       "      <td>3</td>\n",
       "      <td>BCH</td>\n",
       "      <td>16840438.0</td>\n",
       "    </tr>\n",
       "  </tbody>\n",
       "</table>\n",
       "</div>"
      ],
      "text/plain": [
       "   Unnamed: 0  24h_volume_usd  available_supply            id  last_updated  \\\n",
       "0           0    9.007640e+09        16723525.0       bitcoin    1512549554   \n",
       "1           1    1.551330e+09        96165368.0      ethereum    1512549553   \n",
       "2           2    1.111350e+09        16840438.0  bitcoin-cash    1512549578   \n",
       "\n",
       "   market_cap_usd  max_supply          name  percent_change_1h  \\\n",
       "0    2.130493e+11  21000000.0       Bitcoin               0.12   \n",
       "1    4.352945e+10         NaN      Ethereum              -0.18   \n",
       "2    2.529585e+10  21000000.0  Bitcoin Cash               1.65   \n",
       "\n",
       "   percent_change_24h  percent_change_7d  price_btc  price_usd  rank symbol  \\\n",
       "0                7.33              17.45   1.000000  12739.500     1    BTC   \n",
       "1               -3.93              -7.33   0.036177    452.652     2    ETH   \n",
       "2               -5.51              -4.75   0.120050   1502.090     3    BCH   \n",
       "\n",
       "   total_supply  \n",
       "0    16723525.0  \n",
       "1    96165368.0  \n",
       "2    16840438.0  "
      ]
     },
     "execution_count": 5,
     "metadata": {},
     "output_type": "execute_result"
    }
   ],
   "source": [
    "dec6.head(3)"
   ]
  },
  {
   "cell_type": "code",
   "execution_count": 6,
   "id": "bef395cd-3e91-45a7-83c9-7edbb23195cf",
   "metadata": {},
   "outputs": [
    {
     "name": "stdout",
     "output_type": "stream",
     "text": [
      "<class 'pandas.core.frame.DataFrame'>\n",
      "RangeIndex: 1326 entries, 0 to 1325\n",
      "Data columns (total 16 columns):\n",
      " #   Column              Non-Null Count  Dtype  \n",
      "---  ------              --------------  -----  \n",
      " 0   Unnamed: 0          1326 non-null   int64  \n",
      " 1   24h_volume_usd      1270 non-null   float64\n",
      " 2   available_supply    1031 non-null   float64\n",
      " 3   id                  1326 non-null   object \n",
      " 4   last_updated        1326 non-null   int64  \n",
      " 5   market_cap_usd      1031 non-null   float64\n",
      " 6   max_supply          215 non-null    float64\n",
      " 7   name                1326 non-null   object \n",
      " 8   percent_change_1h   1273 non-null   float64\n",
      " 9   percent_change_24h  1270 non-null   float64\n",
      " 10  percent_change_7d   1283 non-null   float64\n",
      " 11  price_btc           1326 non-null   float64\n",
      " 12  price_usd           1326 non-null   float64\n",
      " 13  rank                1326 non-null   int64  \n",
      " 14  symbol              1326 non-null   object \n",
      " 15  total_supply        1211 non-null   float64\n",
      "dtypes: float64(10), int64(3), object(3)\n",
      "memory usage: 165.9+ KB\n"
     ]
    }
   ],
   "source": [
    "dec6.info()"
   ]
  },
  {
   "cell_type": "code",
   "execution_count": 7,
   "id": "cd8f2ef7-892f-480e-957d-4de9fdf024c9",
   "metadata": {},
   "outputs": [
    {
     "data": {
      "text/plain": [
       "Unnamed: 0               0\n",
       "24h_volume_usd          56\n",
       "available_supply       295\n",
       "id                       0\n",
       "last_updated             0\n",
       "market_cap_usd         295\n",
       "max_supply            1111\n",
       "name                     0\n",
       "percent_change_1h       53\n",
       "percent_change_24h      56\n",
       "percent_change_7d       43\n",
       "price_btc                0\n",
       "price_usd                0\n",
       "rank                     0\n",
       "symbol                   0\n",
       "total_supply           115\n",
       "dtype: int64"
      ]
     },
     "execution_count": 7,
     "metadata": {},
     "output_type": "execute_result"
    }
   ],
   "source": [
    "dec6.isnull().sum()"
   ]
  },
  {
   "cell_type": "code",
   "execution_count": 8,
   "id": "b218bea6-9b91-4e3b-b840-b0fd0111a2b8",
   "metadata": {},
   "outputs": [
    {
     "data": {
      "text/plain": [
       "Index(['Unnamed: 0', '24h_volume_usd', 'available_supply', 'id',\n",
       "       'last_updated', 'market_cap_usd', 'max_supply', 'name',\n",
       "       'percent_change_1h', 'percent_change_24h', 'percent_change_7d',\n",
       "       'price_btc', 'price_usd', 'rank', 'symbol', 'total_supply'],\n",
       "      dtype='object')"
      ]
     },
     "execution_count": 8,
     "metadata": {},
     "output_type": "execute_result"
    }
   ],
   "source": [
    "dec6.columns"
   ]
  },
  {
   "cell_type": "markdown",
   "id": "837b50d1-46d2-410f-8572-cbd124a52a2a",
   "metadata": {},
   "source": [
    " "
   ]
  },
  {
   "cell_type": "markdown",
   "id": "fa55fa2f-ca66-486b-ad70-02a39a2675a2",
   "metadata": {},
   "source": [
    "## 1- Full dataset filtering and reproducibility"
   ]
  },
  {
   "cell_type": "code",
   "execution_count": 9,
   "id": "66fb527c-caf5-4aa2-a816-8b4e5e9d470f",
   "metadata": {},
   "outputs": [],
   "source": [
    "market_cap_raw = dec6[['id','market_cap_usd']]"
   ]
  },
  {
   "cell_type": "code",
   "execution_count": 10,
   "id": "7f2ef547-4d03-4e90-8fcc-571d968ad858",
   "metadata": {},
   "outputs": [
    {
     "data": {
      "text/plain": [
       "id                1326\n",
       "market_cap_usd    1031\n",
       "dtype: int64"
      ]
     },
     "execution_count": 10,
     "metadata": {},
     "output_type": "execute_result"
    }
   ],
   "source": [
    "market_cap_raw.agg('count')"
   ]
  },
  {
   "cell_type": "markdown",
   "id": "5f9830e2-c9bd-4c47-9567-97f084983d8d",
   "metadata": {},
   "source": [
    " "
   ]
  },
  {
   "cell_type": "markdown",
   "id": "47c1b94f-49c0-4fae-86c4-4cacbc253c2f",
   "metadata": {},
   "source": [
    "### 2- Discarding the Cryptocurrencies without a market capitalization"
   ]
  },
  {
   "cell_type": "code",
   "execution_count": 11,
   "id": "1852682a-e5cc-4427-b020-21374cf8a191",
   "metadata": {},
   "outputs": [],
   "source": [
    "cap = market_cap_raw.query('market_cap_usd > 0')"
   ]
  },
  {
   "cell_type": "code",
   "execution_count": 12,
   "id": "c1bf5dec-7a84-44bc-9958-627bdcc38615",
   "metadata": {},
   "outputs": [
    {
     "data": {
      "text/html": [
       "<div>\n",
       "<style scoped>\n",
       "    .dataframe tbody tr th:only-of-type {\n",
       "        vertical-align: middle;\n",
       "    }\n",
       "\n",
       "    .dataframe tbody tr th {\n",
       "        vertical-align: top;\n",
       "    }\n",
       "\n",
       "    .dataframe thead th {\n",
       "        text-align: right;\n",
       "    }\n",
       "</style>\n",
       "<table border=\"1\" class=\"dataframe\">\n",
       "  <thead>\n",
       "    <tr style=\"text-align: right;\">\n",
       "      <th></th>\n",
       "      <th>id</th>\n",
       "      <th>market_cap_usd</th>\n",
       "    </tr>\n",
       "  </thead>\n",
       "  <tbody>\n",
       "    <tr>\n",
       "      <th>count</th>\n",
       "      <td>1031</td>\n",
       "      <td>1031</td>\n",
       "    </tr>\n",
       "  </tbody>\n",
       "</table>\n",
       "</div>"
      ],
      "text/plain": [
       "         id  market_cap_usd\n",
       "count  1031            1031"
      ]
     },
     "execution_count": 12,
     "metadata": {},
     "output_type": "execute_result"
    }
   ],
   "source": [
    "cap.agg([\"count\"])"
   ]
  },
  {
   "cell_type": "code",
   "execution_count": 13,
   "id": "6a59be20-11d5-492f-99f0-314d46085ab3",
   "metadata": {},
   "outputs": [
    {
     "data": {
      "text/html": [
       "<div>\n",
       "<style scoped>\n",
       "    .dataframe tbody tr th:only-of-type {\n",
       "        vertical-align: middle;\n",
       "    }\n",
       "\n",
       "    .dataframe tbody tr th {\n",
       "        vertical-align: top;\n",
       "    }\n",
       "\n",
       "    .dataframe thead th {\n",
       "        text-align: right;\n",
       "    }\n",
       "</style>\n",
       "<table border=\"1\" class=\"dataframe\">\n",
       "  <thead>\n",
       "    <tr style=\"text-align: right;\">\n",
       "      <th></th>\n",
       "      <th>id</th>\n",
       "      <th>market_cap_usd</th>\n",
       "    </tr>\n",
       "  </thead>\n",
       "  <tbody>\n",
       "    <tr>\n",
       "      <th>0</th>\n",
       "      <td>bitcoin</td>\n",
       "      <td>2.130493e+11</td>\n",
       "    </tr>\n",
       "    <tr>\n",
       "      <th>1</th>\n",
       "      <td>ethereum</td>\n",
       "      <td>4.352945e+10</td>\n",
       "    </tr>\n",
       "    <tr>\n",
       "      <th>2</th>\n",
       "      <td>bitcoin-cash</td>\n",
       "      <td>2.529585e+10</td>\n",
       "    </tr>\n",
       "    <tr>\n",
       "      <th>3</th>\n",
       "      <td>iota</td>\n",
       "      <td>1.475225e+10</td>\n",
       "    </tr>\n",
       "    <tr>\n",
       "      <th>4</th>\n",
       "      <td>ripple</td>\n",
       "      <td>9.365343e+09</td>\n",
       "    </tr>\n",
       "    <tr>\n",
       "      <th>...</th>\n",
       "      <td>...</td>\n",
       "      <td>...</td>\n",
       "    </tr>\n",
       "    <tr>\n",
       "      <th>1026</th>\n",
       "      <td>future-digital-currency</td>\n",
       "      <td>2.510000e+02</td>\n",
       "    </tr>\n",
       "    <tr>\n",
       "      <th>1027</th>\n",
       "      <td>environ</td>\n",
       "      <td>1.360000e+02</td>\n",
       "    </tr>\n",
       "    <tr>\n",
       "      <th>1028</th>\n",
       "      <td>caliphcoin</td>\n",
       "      <td>1.000000e+02</td>\n",
       "    </tr>\n",
       "    <tr>\n",
       "      <th>1029</th>\n",
       "      <td>falcoin</td>\n",
       "      <td>2.300000e+01</td>\n",
       "    </tr>\n",
       "    <tr>\n",
       "      <th>1030</th>\n",
       "      <td>applecoin-apw</td>\n",
       "      <td>1.000000e+01</td>\n",
       "    </tr>\n",
       "  </tbody>\n",
       "</table>\n",
       "<p>1031 rows × 2 columns</p>\n",
       "</div>"
      ],
      "text/plain": [
       "                           id  market_cap_usd\n",
       "0                     bitcoin    2.130493e+11\n",
       "1                    ethereum    4.352945e+10\n",
       "2                bitcoin-cash    2.529585e+10\n",
       "3                        iota    1.475225e+10\n",
       "4                      ripple    9.365343e+09\n",
       "...                       ...             ...\n",
       "1026  future-digital-currency    2.510000e+02\n",
       "1027                  environ    1.360000e+02\n",
       "1028               caliphcoin    1.000000e+02\n",
       "1029                  falcoin    2.300000e+01\n",
       "1030            applecoin-apw    1.000000e+01\n",
       "\n",
       "[1031 rows x 2 columns]"
      ]
     },
     "execution_count": 13,
     "metadata": {},
     "output_type": "execute_result"
    }
   ],
   "source": [
    "cap"
   ]
  },
  {
   "cell_type": "markdown",
   "id": "635cdcba-a774-42df-9517-455f54024507",
   "metadata": {},
   "source": [
    " "
   ]
  },
  {
   "cell_type": "markdown",
   "id": "f968ed9a-d098-4fbd-baba-9533ce17a1fc",
   "metadata": {},
   "source": [
    "### 3- How big is Bitcoin compared with the rest of the cryptocurrencies"
   ]
  },
  {
   "cell_type": "code",
   "execution_count": 14,
   "id": "f5f71e36-b7da-48f7-958a-55d5054f00dc",
   "metadata": {},
   "outputs": [],
   "source": [
    "cap10 = market_cap_raw.iloc[:10].set_index('id').sort_index()"
   ]
  },
  {
   "cell_type": "code",
   "execution_count": 15,
   "id": "c5097200-7b43-4ed7-8e10-a22738d1f9c5",
   "metadata": {},
   "outputs": [],
   "source": [
    "cap10 = cap10.assign(market_cap_perc = lambda x: (x.market_cap_usd / x.market_cap_usd.sum()) * 100)"
   ]
  },
  {
   "cell_type": "code",
   "execution_count": 16,
   "id": "bbf8de0e-5ac0-47af-98f9-601757d82001",
   "metadata": {},
   "outputs": [],
   "source": [
    "cap10.sort_values(by='market_cap_perc',ascending=False,inplace=True)"
   ]
  },
  {
   "cell_type": "code",
   "execution_count": 17,
   "id": "c2f7b836-c0fd-4aa4-b410-69f2f7e3720e",
   "metadata": {},
   "outputs": [
    {
     "data": {
      "text/html": [
       "<div>\n",
       "<style scoped>\n",
       "    .dataframe tbody tr th:only-of-type {\n",
       "        vertical-align: middle;\n",
       "    }\n",
       "\n",
       "    .dataframe tbody tr th {\n",
       "        vertical-align: top;\n",
       "    }\n",
       "\n",
       "    .dataframe thead th {\n",
       "        text-align: right;\n",
       "    }\n",
       "</style>\n",
       "<table border=\"1\" class=\"dataframe\">\n",
       "  <thead>\n",
       "    <tr style=\"text-align: right;\">\n",
       "      <th></th>\n",
       "      <th>market_cap_usd</th>\n",
       "      <th>market_cap_perc</th>\n",
       "    </tr>\n",
       "    <tr>\n",
       "      <th>id</th>\n",
       "      <th></th>\n",
       "      <th></th>\n",
       "    </tr>\n",
       "  </thead>\n",
       "  <tbody>\n",
       "    <tr>\n",
       "      <th>bitcoin</th>\n",
       "      <td>2.130493e+11</td>\n",
       "      <td>64.579199</td>\n",
       "    </tr>\n",
       "    <tr>\n",
       "      <th>ethereum</th>\n",
       "      <td>4.352945e+10</td>\n",
       "      <td>13.194580</td>\n",
       "    </tr>\n",
       "    <tr>\n",
       "      <th>bitcoin-cash</th>\n",
       "      <td>2.529585e+10</td>\n",
       "      <td>7.667641</td>\n",
       "    </tr>\n",
       "    <tr>\n",
       "      <th>iota</th>\n",
       "      <td>1.475225e+10</td>\n",
       "      <td>4.471679</td>\n",
       "    </tr>\n",
       "    <tr>\n",
       "      <th>ripple</th>\n",
       "      <td>9.365343e+09</td>\n",
       "      <td>2.838809</td>\n",
       "    </tr>\n",
       "    <tr>\n",
       "      <th>dash</th>\n",
       "      <td>5.794076e+09</td>\n",
       "      <td>1.756291</td>\n",
       "    </tr>\n",
       "    <tr>\n",
       "      <th>litecoin</th>\n",
       "      <td>5.634498e+09</td>\n",
       "      <td>1.707920</td>\n",
       "    </tr>\n",
       "    <tr>\n",
       "      <th>bitcoin-gold</th>\n",
       "      <td>4.920065e+09</td>\n",
       "      <td>1.491363</td>\n",
       "    </tr>\n",
       "    <tr>\n",
       "      <th>monero</th>\n",
       "      <td>4.331688e+09</td>\n",
       "      <td>1.313015</td>\n",
       "    </tr>\n",
       "    <tr>\n",
       "      <th>cardano</th>\n",
       "      <td>3.231420e+09</td>\n",
       "      <td>0.979503</td>\n",
       "    </tr>\n",
       "  </tbody>\n",
       "</table>\n",
       "</div>"
      ],
      "text/plain": [
       "              market_cap_usd  market_cap_perc\n",
       "id                                           \n",
       "bitcoin         2.130493e+11        64.579199\n",
       "ethereum        4.352945e+10        13.194580\n",
       "bitcoin-cash    2.529585e+10         7.667641\n",
       "iota            1.475225e+10         4.471679\n",
       "ripple          9.365343e+09         2.838809\n",
       "dash            5.794076e+09         1.756291\n",
       "litecoin        5.634498e+09         1.707920\n",
       "bitcoin-gold    4.920065e+09         1.491363\n",
       "monero          4.331688e+09         1.313015\n",
       "cardano         3.231420e+09         0.979503"
      ]
     },
     "execution_count": 17,
     "metadata": {},
     "output_type": "execute_result"
    }
   ],
   "source": [
    "cap10"
   ]
  },
  {
   "cell_type": "code",
   "execution_count": 18,
   "id": "811b5f88-ca42-4a01-804a-6e29882598a4",
   "metadata": {},
   "outputs": [
    {
     "data": {
      "image/png": "[encoded data removed]",
      "text/plain": [
       "<Figure size 432x288 with 1 Axes>"
      ]
     },
     "metadata": {
      "needs_background": "light"
     },
     "output_type": "display_data"
    }
   ],
   "source": [
    "ax = cap10.market_cap_perc.plot.bar()\n",
    "plt.title('Top 10 market capitalization')\n",
    "plt.ylabel('% of total cap')\n",
    "plt.show()"
   ]
  },
  {
   "cell_type": "markdown",
   "id": "6db594b1-2ae9-4f6a-a181-e5f17c56075b",
   "metadata": {},
   "source": [
    " "
   ]
  },
  {
   "cell_type": "markdown",
   "id": "4f9fb67b-bee0-4315-bd08-cb0f1a43ad3f",
   "metadata": {},
   "source": [
    "## 4- Making the plot easier to read and more informative"
   ]
  },
  {
   "cell_type": "code",
   "execution_count": 19,
   "id": "04f65483-7f07-4590-be18-acea2307a222",
   "metadata": {},
   "outputs": [
    {
     "data": {
      "image/png": "[encoded data removed]",
      "text/plain": [
       "<Figure size 432x288 with 1 Axes>"
      ]
     },
     "metadata": {
      "needs_background": "light"
     },
     "output_type": "display_data"
    }
   ],
   "source": [
    "COLORS = ['orange', 'green', 'orange', 'cyan', 'cyan', 'blue', 'silver', 'orange', 'red', 'green']\n",
    "\n",
    "\n",
    "ax = cap10.market_cap_perc.plot.bar(logy=True,color=COLORS)\n",
    "plt.ylabel('USD')\n",
    "plt.xlabel('')\n",
    "plt.show()"
   ]
  },
  {
   "cell_type": "markdown",
   "id": "9db7b181-5056-4da2-8fa9-67bd93cc0792",
   "metadata": {},
   "source": [
    "## 5- Selecting 24 hours and 7 days percentage change"
   ]
  },
  {
   "cell_type": "code",
   "execution_count": 20,
   "id": "457b45f4-bdd2-4039-83c9-5afb9d0dfb88",
   "metadata": {},
   "outputs": [],
   "source": [
    "volatility = dec6[['id', 'percent_change_24h', 'percent_change_7d']]\n",
    "\n",
    "volatility = volatility.set_index('id').dropna()\n",
    "\n",
    "volatility = volatility.sort_values('percent_change_24h',ascending=True)"
   ]
  },
  {
   "cell_type": "code",
   "execution_count": 21,
   "id": "b6c445ee-eb5d-4bc5-8d36-a6469aee7c09",
   "metadata": {},
   "outputs": [
    {
     "data": {
      "text/html": [
       "<div>\n",
       "<style scoped>\n",
       "    .dataframe tbody tr th:only-of-type {\n",
       "        vertical-align: middle;\n",
       "    }\n",
       "\n",
       "    .dataframe tbody tr th {\n",
       "        vertical-align: top;\n",
       "    }\n",
       "\n",
       "    .dataframe thead th {\n",
       "        text-align: right;\n",
       "    }\n",
       "</style>\n",
       "<table border=\"1\" class=\"dataframe\">\n",
       "  <thead>\n",
       "    <tr style=\"text-align: right;\">\n",
       "      <th></th>\n",
       "      <th>percent_change_24h</th>\n",
       "      <th>percent_change_7d</th>\n",
       "    </tr>\n",
       "    <tr>\n",
       "      <th>id</th>\n",
       "      <th></th>\n",
       "      <th></th>\n",
       "    </tr>\n",
       "  </thead>\n",
       "  <tbody>\n",
       "    <tr>\n",
       "      <th>flappycoin</th>\n",
       "      <td>-95.85</td>\n",
       "      <td>-96.61</td>\n",
       "    </tr>\n",
       "    <tr>\n",
       "      <th>credence-coin</th>\n",
       "      <td>-94.22</td>\n",
       "      <td>-95.31</td>\n",
       "    </tr>\n",
       "    <tr>\n",
       "      <th>coupecoin</th>\n",
       "      <td>-93.93</td>\n",
       "      <td>-61.24</td>\n",
       "    </tr>\n",
       "    <tr>\n",
       "      <th>tyrocoin</th>\n",
       "      <td>-79.02</td>\n",
       "      <td>-87.43</td>\n",
       "    </tr>\n",
       "    <tr>\n",
       "      <th>petrodollar</th>\n",
       "      <td>-76.55</td>\n",
       "      <td>542.96</td>\n",
       "    </tr>\n",
       "  </tbody>\n",
       "</table>\n",
       "</div>"
      ],
      "text/plain": [
       "               percent_change_24h  percent_change_7d\n",
       "id                                                  \n",
       "flappycoin                 -95.85             -96.61\n",
       "credence-coin              -94.22             -95.31\n",
       "coupecoin                  -93.93             -61.24\n",
       "tyrocoin                   -79.02             -87.43\n",
       "petrodollar                -76.55             542.96"
      ]
     },
     "execution_count": 21,
     "metadata": {},
     "output_type": "execute_result"
    }
   ],
   "source": [
    "volatility.head()"
   ]
  },
  {
   "cell_type": "markdown",
   "id": "f799e01b-fbf8-4eef-b4c6-7401424bc1c7",
   "metadata": {},
   "source": [
    " "
   ]
  },
  {
   "cell_type": "markdown",
   "id": "7a3e5dcd-d710-4f96-8262-cda0421999f3",
   "metadata": {},
   "source": [
    "### 6- Top 10 biggest gainers and top 10 losers in market capitalization"
   ]
  },
  {
   "cell_type": "code",
   "execution_count": 22,
   "id": "ef7fd5e7-b2be-4ea8-9ec2-370f8c643219",
   "metadata": {},
   "outputs": [
    {
     "data": {
      "image/png": "[encoded data removed]",
      "text/plain": [
       "<Figure size 720x432 with 2 Axes>"
      ]
     },
     "metadata": {
      "needs_background": "light"
     },
     "output_type": "display_data"
    }
   ],
   "source": [
    "def top10_subplot(volatility_series, title):\n",
    "    fig, axes = plt.subplots(nrows=1, ncols=2, figsize=(10, 6))\n",
    "    \n",
    "    ax = volatility_series[:10].plot.bar(color='red',ax=axes[0])\n",
    "    \n",
    "    fig.suptitle(title)\n",
    "    ax.set_ylabel('% change')\n",
    "    \n",
    "    ax = volatility_series[-10:].plot.bar(color='blue',ax=axes[1])\n",
    "    \n",
    "    return fig , ax\n",
    "\n",
    "ifg, ax = top10_subplot(volatility.percent_change_24h,\"24 hours top losers and winners\")\n",
    "\n",
    "plt.show()"
   ]
  },
  {
   "cell_type": "markdown",
   "id": "6996f3de-7c59-4de1-a609-ddeb12e50c3e",
   "metadata": {},
   "source": [
    " "
   ]
  },
  {
   "cell_type": "markdown",
   "id": "16efbd06-2c7a-4ac1-bd7d-7347c2e20173",
   "metadata": {},
   "source": [
    "## 7- Weekly top 10 biggest gainers and top 10 losers"
   ]
  },
  {
   "cell_type": "code",
   "execution_count": 23,
   "id": "993d004e-6c4d-425b-a70b-80cedf95b736",
   "metadata": {},
   "outputs": [
    {
     "data": {
      "image/png": "[encoded data removed]",
      "text/plain": [
       "<Figure size 720x432 with 2 Axes>"
      ]
     },
     "metadata": {
      "needs_background": "light"
     },
     "output_type": "display_data"
    }
   ],
   "source": [
    "volatility7d = volatility.sort_values(by=\"percent_change_7d\")\n",
    "\n",
    "fig, ax = top10_subplot(volatility7d.percent_change_7d,\"Weekly top losers and winners\")"
   ]
  },
  {
   "cell_type": "markdown",
   "id": "2357cf16-bf50-4b83-8ddc-fa885a2d78dc",
   "metadata": {},
   "source": [
    " "
   ]
  },
  {
   "cell_type": "markdown",
   "id": "18e11e81-3115-4aff-b347-d4779700e73a",
   "metadata": {},
   "source": [
    "## 8- Selecting everything bigger than 10 billion "
   ]
  },
  {
   "cell_type": "code",
   "execution_count": 24,
   "id": "94ea83ff-6b31-4b48-adc4-840af58237d8",
   "metadata": {},
   "outputs": [
    {
     "data": {
      "text/html": [
       "<div>\n",
       "<style scoped>\n",
       "    .dataframe tbody tr th:only-of-type {\n",
       "        vertical-align: middle;\n",
       "    }\n",
       "\n",
       "    .dataframe tbody tr th {\n",
       "        vertical-align: top;\n",
       "    }\n",
       "\n",
       "    .dataframe thead th {\n",
       "        text-align: right;\n",
       "    }\n",
       "</style>\n",
       "<table border=\"1\" class=\"dataframe\">\n",
       "  <thead>\n",
       "    <tr style=\"text-align: right;\">\n",
       "      <th></th>\n",
       "      <th>id</th>\n",
       "      <th>market_cap_usd</th>\n",
       "    </tr>\n",
       "  </thead>\n",
       "  <tbody>\n",
       "    <tr>\n",
       "      <th>0</th>\n",
       "      <td>bitcoin</td>\n",
       "      <td>2.130493e+11</td>\n",
       "    </tr>\n",
       "    <tr>\n",
       "      <th>1</th>\n",
       "      <td>ethereum</td>\n",
       "      <td>4.352945e+10</td>\n",
       "    </tr>\n",
       "    <tr>\n",
       "      <th>2</th>\n",
       "      <td>bitcoin-cash</td>\n",
       "      <td>2.529585e+10</td>\n",
       "    </tr>\n",
       "    <tr>\n",
       "      <th>3</th>\n",
       "      <td>iota</td>\n",
       "      <td>1.475225e+10</td>\n",
       "    </tr>\n",
       "  </tbody>\n",
       "</table>\n",
       "</div>"
      ],
      "text/plain": [
       "             id  market_cap_usd\n",
       "0       bitcoin    2.130493e+11\n",
       "1      ethereum    4.352945e+10\n",
       "2  bitcoin-cash    2.529585e+10\n",
       "3          iota    1.475225e+10"
      ]
     },
     "execution_count": 24,
     "metadata": {},
     "output_type": "execute_result"
    }
   ],
   "source": [
    "largecaps = cap.query('market_cap_usd > 1E+10')\n",
    "\n",
    "largecaps"
   ]
  },
  {
   "cell_type": "markdown",
   "id": "9c6a6e36-df40-4b69-a37e-d5e486ea4c43",
   "metadata": {},
   "source": [
    " "
   ]
  },
  {
   "cell_type": "markdown",
   "id": "4b2763b0-23ff-4bfa-a9aa-6d92a889018b",
   "metadata": {},
   "source": [
    "## 9- Most Coins are Tiny"
   ]
  },
  {
   "cell_type": "code",
   "execution_count": 25,
   "id": "347b78e7-a682-4fb7-9b54-4a7baa9217cd",
   "metadata": {},
   "outputs": [
    {
     "data": {
      "image/png": "[encoded data removed]",
      "text/plain": [
       "<Figure size 432x288 with 1 Axes>"
      ]
     },
     "metadata": {
      "needs_background": "light"
     },
     "output_type": "display_data"
    }
   ],
   "source": [
    "def capcount(query_string):\n",
    "    return cap.query(query_string).count().id\n",
    "\n",
    "LABELS = [\"biggish\", \"micro\", \"nano\"]\n",
    "\n",
    "biggish = capcount('market_cap_usd > 3E+8')\n",
    "\n",
    "micro = capcount('market_cap_usd >= 5E+7 & market_cap_usd < 3E+8')\n",
    "\n",
    "nano = capcount('market_cap_usd < 5E+7')\n",
    "\n",
    "values = [biggish,micro,nano]\n",
    "\n",
    "plt.bar(range(len(values)),values,tick_label = LABELS)\n",
    "plt.show()"
   ]
  },
  {
   "cell_type": "code",
   "execution_count": null,
   "id": "f9cc4b5f-240b-4a63-b452-8c7299f8f122",
   "metadata": {},
   "outputs": [],
   "source": []
  }
 ],
 "metadata": {
  "kernelspec": {
   "display_name": "Python 3 (ipykernel)",
   "language": "python",
   "name": "python3"
  },
  "language_info": {
   "codemirror_mode": {
    "name": "ipython",
    "version": 3
   },
   "file_extension": ".py",
   "mimetype": "text/x-python",
   "name": "python",
   "nbconvert_exporter": "python",
   "pygments_lexer": "ipython3",
   "version": "3.9.7"
  }
 },
 "nbformat": 4,
 "nbformat_minor": 5
}
